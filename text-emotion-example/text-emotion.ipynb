{
 "cells": [
  {
   "cell_type": "code",
   "execution_count": null,
   "metadata": {},
   "outputs": [],
   "source": []
  },
  {
   "cell_type": "markdown",
   "metadata": {},
   "source": [
    "# Dectect the emotion of pure text input\n",
    "\n",
    "---\n"
   ]
  },
  {
   "cell_type": "markdown",
   "metadata": {},
   "source": [
    "## How to detect the text emotion?\n",
    "\n",
    "This model is different from sentiment analysis, the models measure 53 expressions identified through the subtleties of emotional language and 48 expressions discerned from facial cues, vocal bursts, and speech prosody.\n",
    "\n",
    "Ensure you have\n",
    "1.install hume ai python library `pip install hume` and\n",
    "2.get [you hume api key](https://dev.hume.ai/docs/introduction/api-key)\n",
    "\n",
    "The api was from here [Expression Measurement API](https://dev.hume.ai/docs/expression-measurement-api/websocket#emotional-language-from-text)\n"
   ]
  },
  {
   "cell_type": "markdown",
   "metadata": {},
   "source": []
  },
  {
   "cell_type": "code",
   "execution_count": null,
   "metadata": {},
   "outputs": [],
   "source": []
  },
  {
   "cell_type": "code",
   "execution_count": 7,
   "metadata": {},
   "outputs": [
    {
     "name": "stdout",
     "output_type": "stream",
     "text": [
      "[{'name': 'Admiration', 'score': 0.0637924075126648}, {'name': 'Adoration', 'score': 0.07222927361726761}, {'name': 'Aesthetic Appreciation', 'score': 0.028084464371204376}, {'name': 'Amusement', 'score': 0.02758903056383133}, {'name': 'Anger', 'score': 0.0120259253308177}, {'name': 'Annoyance', 'score': 0.02565314993262291}, {'name': 'Anxiety', 'score': 0.004923965781927109}, {'name': 'Awe', 'score': 0.02503134310245514}, {'name': 'Awkwardness', 'score': 0.061385150998830795}, {'name': 'Boredom', 'score': 0.05333973839879036}, {'name': 'Calmness', 'score': 0.13555721938610077}, {'name': 'Concentration', 'score': 0.010018940083682537}, {'name': 'Confusion', 'score': 0.0911511704325676}, {'name': 'Contemplation', 'score': 0.020809857174754143}, {'name': 'Contempt', 'score': 0.030744818970561028}, {'name': 'Contentment', 'score': 0.06075143441557884}, {'name': 'Craving', 'score': 0.008604105561971664}, {'name': 'Determination', 'score': 0.010685046203434467}, {'name': 'Disappointment', 'score': 0.03298039734363556}, {'name': 'Disapproval', 'score': 0.0222012959420681}, {'name': 'Disgust', 'score': 0.01058285403996706}, {'name': 'Distress', 'score': 0.01188699621707201}, {'name': 'Doubt', 'score': 0.017334386706352234}, {'name': 'Ecstasy', 'score': 0.014498891308903694}, {'name': 'Embarrassment', 'score': 0.010167799890041351}, {'name': 'Empathic Pain', 'score': 0.020176591351628304}, {'name': 'Enthusiasm', 'score': 0.02454438991844654}, {'name': 'Entrancement', 'score': 0.031809959560632706}, {'name': 'Envy', 'score': 0.0078100417740643024}, {'name': 'Excitement', 'score': 0.01086737122386694}, {'name': 'Fear', 'score': 0.002841348759829998}, {'name': 'Gratitude', 'score': 0.012725913897156715}, {'name': 'Guilt', 'score': 0.005438258871436119}, {'name': 'Horror', 'score': 0.0024618194438517094}, {'name': 'Interest', 'score': 0.06195249781012535}, {'name': 'Joy', 'score': 0.05647149682044983}, {'name': 'Love', 'score': 0.1472713202238083}, {'name': 'Nostalgia', 'score': 0.010130172595381737}, {'name': 'Pain', 'score': 0.020555714145302773}, {'name': 'Pride', 'score': 0.013912060298025608}, {'name': 'Realization', 'score': 0.021947288885712624}, {'name': 'Relief', 'score': 0.006897664628922939}, {'name': 'Romance', 'score': 0.09956827759742737}, {'name': 'Sadness', 'score': 0.031556908041238785}, {'name': 'Sarcasm', 'score': 0.029119903221726418}, {'name': 'Satisfaction', 'score': 0.033898692578077316}, {'name': 'Desire', 'score': 0.08503230661153793}, {'name': 'Shame', 'score': 0.01916152983903885}, {'name': 'Surprise (negative)', 'score': 0.04795699194073677}, {'name': 'Surprise (positive)', 'score': 0.030542386695742607}, {'name': 'Sympathy', 'score': 0.03246133401989937}, {'name': 'Tiredness', 'score': 0.03606248274445534}, {'name': 'Triumph', 'score': 0.01235896535217762}]\n",
      "[{'name': 'Admiration', 'score': 0.04051987826824188}, {'name': 'Adoration', 'score': 0.009848210960626602}, {'name': 'Aesthetic Appreciation', 'score': 0.07604563981294632}, {'name': 'Amusement', 'score': 0.021876158192753792}, {'name': 'Anger', 'score': 0.0023929523304104805}, {'name': 'Annoyance', 'score': 0.020589711144566536}, {'name': 'Anxiety', 'score': 0.0038202449213713408}, {'name': 'Awe', 'score': 0.03062158264219761}, {'name': 'Awkwardness', 'score': 0.015123735181987286}, {'name': 'Boredom', 'score': 0.10465148836374283}, {'name': 'Calmness', 'score': 0.14533287286758423}, {'name': 'Concentration', 'score': 0.05680055543780327}, {'name': 'Confusion', 'score': 0.14072859287261963}, {'name': 'Contemplation', 'score': 0.08013632148504257}, {'name': 'Contempt', 'score': 0.01943013444542885}, {'name': 'Contentment', 'score': 0.06073102355003357}, {'name': 'Craving', 'score': 0.0065015326254069805}, {'name': 'Determination', 'score': 0.010847826488316059}, {'name': 'Disappointment', 'score': 0.017608826979994774}, {'name': 'Disapproval', 'score': 0.009595048613846302}, {'name': 'Disgust', 'score': 0.003568764077499509}, {'name': 'Distress', 'score': 0.004913832992315292}, {'name': 'Doubt', 'score': 0.020732788369059563}, {'name': 'Ecstasy', 'score': 0.007031845860183239}, {'name': 'Embarrassment', 'score': 0.002762148156762123}, {'name': 'Empathic Pain', 'score': 0.004658285528421402}, {'name': 'Enthusiasm', 'score': 0.020970847457647324}, {'name': 'Entrancement', 'score': 0.029176874086260796}, {'name': 'Envy', 'score': 0.009052904322743416}, {'name': 'Excitement', 'score': 0.011401181109249592}, {'name': 'Fear', 'score': 0.001873269327916205}, {'name': 'Gratitude', 'score': 0.0074374801479279995}, {'name': 'Guilt', 'score': 0.0009437649860046804}, {'name': 'Horror', 'score': 0.0012521242024376988}, {'name': 'Interest', 'score': 0.10246434807777405}, {'name': 'Joy', 'score': 0.016914378851652145}, {'name': 'Love', 'score': 0.0034126662649214268}, {'name': 'Nostalgia', 'score': 0.008389960043132305}, {'name': 'Pain', 'score': 0.004401585552841425}, {'name': 'Pride', 'score': 0.012128319591283798}, {'name': 'Realization', 'score': 0.076319120824337}, {'name': 'Relief', 'score': 0.014435349963605404}, {'name': 'Romance', 'score': 0.002293019089847803}, {'name': 'Sadness', 'score': 0.006305092945694923}, {'name': 'Sarcasm', 'score': 0.018501555547118187}, {'name': 'Satisfaction', 'score': 0.07013728469610214}, {'name': 'Desire', 'score': 0.004992782603949308}, {'name': 'Shame', 'score': 0.0043703895062208176}, {'name': 'Surprise (negative)', 'score': 0.028048554435372353}, {'name': 'Surprise (positive)', 'score': 0.052263468503952026}, {'name': 'Sympathy', 'score': 0.007420244161039591}, {'name': 'Tiredness', 'score': 0.02038392424583435}, {'name': 'Triumph', 'score': 0.026098301634192467}]\n",
      "[{'name': 'Admiration', 'score': 0.016970455646514893}, {'name': 'Adoration', 'score': 0.005523955915123224}, {'name': 'Aesthetic Appreciation', 'score': 0.029092414304614067}, {'name': 'Amusement', 'score': 0.012897545471787453}, {'name': 'Anger', 'score': 0.0023396238684654236}, {'name': 'Annoyance', 'score': 0.03301813825964928}, {'name': 'Anxiety', 'score': 0.01838001236319542}, {'name': 'Awe', 'score': 0.016796542331576347}, {'name': 'Awkwardness', 'score': 0.029170455411076546}, {'name': 'Boredom', 'score': 0.09323373436927795}, {'name': 'Calmness', 'score': 0.1260739266872406}, {'name': 'Concentration', 'score': 0.04415695369243622}, {'name': 'Confusion', 'score': 0.1222047209739685}, {'name': 'Contemplation', 'score': 0.07748270034790039}, {'name': 'Contempt', 'score': 0.013317916542291641}, {'name': 'Contentment', 'score': 0.0677824541926384}, {'name': 'Craving', 'score': 0.002055190969258547}, {'name': 'Determination', 'score': 0.014018867164850235}, {'name': 'Disappointment', 'score': 0.0332561731338501}, {'name': 'Disapproval', 'score': 0.012804130092263222}, {'name': 'Disgust', 'score': 0.0027360054664313793}, {'name': 'Distress', 'score': 0.017707617953419685}, {'name': 'Doubt', 'score': 0.030682748183608055}, {'name': 'Ecstasy', 'score': 0.004830803256481886}, {'name': 'Embarrassment', 'score': 0.006507244426757097}, {'name': 'Empathic Pain', 'score': 0.005042286589741707}, {'name': 'Enthusiasm', 'score': 0.02347138337790966}, {'name': 'Entrancement', 'score': 0.016530858352780342}, {'name': 'Envy', 'score': 0.001883031101897359}, {'name': 'Excitement', 'score': 0.015434619039297104}, {'name': 'Fear', 'score': 0.00641680508852005}, {'name': 'Gratitude', 'score': 0.010292816907167435}, {'name': 'Guilt', 'score': 0.0019470155239105225}, {'name': 'Horror', 'score': 0.0014417399652302265}, {'name': 'Interest', 'score': 0.04900533705949783}, {'name': 'Joy', 'score': 0.013297760859131813}, {'name': 'Love', 'score': 0.003031340194866061}, {'name': 'Nostalgia', 'score': 0.007333655375987291}, {'name': 'Pain', 'score': 0.008094840683043003}, {'name': 'Pride', 'score': 0.01229705661535263}, {'name': 'Realization', 'score': 0.13879826664924622}, {'name': 'Relief', 'score': 0.0401938296854496}, {'name': 'Romance', 'score': 0.0014898711815476418}, {'name': 'Sadness', 'score': 0.013598033227026463}, {'name': 'Sarcasm', 'score': 0.010478716343641281}, {'name': 'Satisfaction', 'score': 0.06976743042469025}, {'name': 'Desire', 'score': 0.0020953137427568436}, {'name': 'Shame', 'score': 0.007278383709490299}, {'name': 'Surprise (negative)', 'score': 0.04405422881245613}, {'name': 'Surprise (positive)', 'score': 0.05965827777981758}, {'name': 'Sympathy', 'score': 0.005536620505154133}, {'name': 'Tiredness', 'score': 0.050310857594013214}, {'name': 'Triumph', 'score': 0.028072316199541092}]\n",
      "[{'name': 'Admiration', 'score': 0.024263758212327957}, {'name': 'Adoration', 'score': 0.008893379010260105}, {'name': 'Aesthetic Appreciation', 'score': 0.06001366302371025}, {'name': 'Amusement', 'score': 0.02018706314265728}, {'name': 'Anger', 'score': 0.0018757039215415716}, {'name': 'Annoyance', 'score': 0.013199103064835072}, {'name': 'Anxiety', 'score': 0.004857666790485382}, {'name': 'Awe', 'score': 0.017287511378526688}, {'name': 'Awkwardness', 'score': 0.03152330964803696}, {'name': 'Boredom', 'score': 0.059299860149621964}, {'name': 'Calmness', 'score': 0.12637406587600708}, {'name': 'Concentration', 'score': 0.06531300395727158}, {'name': 'Confusion', 'score': 0.3616469204425812}, {'name': 'Contemplation', 'score': 0.10656405985355377}, {'name': 'Contempt', 'score': 0.017246698960661888}, {'name': 'Contentment', 'score': 0.03138267248868942}, {'name': 'Craving', 'score': 0.0037418827414512634}, {'name': 'Determination', 'score': 0.008809423074126244}, {'name': 'Disappointment', 'score': 0.008623240515589714}, {'name': 'Disapproval', 'score': 0.009487869217991829}, {'name': 'Disgust', 'score': 0.0027794591151177883}, {'name': 'Distress', 'score': 0.004138515796512365}, {'name': 'Doubt', 'score': 0.04364926740527153}, {'name': 'Ecstasy', 'score': 0.0045639704912900925}, {'name': 'Embarrassment', 'score': 0.0028473048005253077}, {'name': 'Empathic Pain', 'score': 0.004096683580428362}, {'name': 'Enthusiasm', 'score': 0.014226766303181648}, {'name': 'Entrancement', 'score': 0.03139495104551315}, {'name': 'Envy', 'score': 0.0031544086523354053}, {'name': 'Excitement', 'score': 0.007098193280398846}, {'name': 'Fear', 'score': 0.002960336860269308}, {'name': 'Gratitude', 'score': 0.006275747902691364}, {'name': 'Guilt', 'score': 0.0007365815690718591}, {'name': 'Horror', 'score': 0.0014934302307665348}, {'name': 'Interest', 'score': 0.15917028486728668}, {'name': 'Joy', 'score': 0.012190716341137886}, {'name': 'Love', 'score': 0.005737073719501495}, {'name': 'Nostalgia', 'score': 0.008588073775172234}, {'name': 'Pain', 'score': 0.002629644703119993}, {'name': 'Pride', 'score': 0.005111983045935631}, {'name': 'Realization', 'score': 0.042914945632219315}, {'name': 'Relief', 'score': 0.0061916811391711235}, {'name': 'Romance', 'score': 0.0062073818407952785}, {'name': 'Sadness', 'score': 0.0033864302095025778}, {'name': 'Sarcasm', 'score': 0.019838327541947365}, {'name': 'Satisfaction', 'score': 0.028910934925079346}, {'name': 'Desire', 'score': 0.009206843562424183}, {'name': 'Shame', 'score': 0.0033922481816262007}, {'name': 'Surprise (negative)', 'score': 0.025481466203927994}, {'name': 'Surprise (positive)', 'score': 0.03454850986599922}, {'name': 'Sympathy', 'score': 0.0064297267235815525}, {'name': 'Tiredness', 'score': 0.011153287254273891}, {'name': 'Triumph', 'score': 0.010107741691172123}]\n"
     ]
    }
   ],
   "source": [
    "import asyncio\n",
    "from hume import HumeStreamClient\n",
    "from hume.models.config import LanguageConfig\n",
    "\n",
    "samples = [\n",
    "    \"Mary had a little lamb,\",\n",
    "    \"Its fleece was white as snow.\",\n",
    "    \"Everywhere the child went,\",\n",
    "    \"The little lamb was sure to go.\"\n",
    "]\n",
    "\n",
    "async def main():\n",
    "    client = HumeStreamClient(hume_api)\n",
    "    config = LanguageConfig()\n",
    "    async with client.connect([config]) as socket:\n",
    "        for sample in samples:\n",
    "            result = await socket.send_text(sample)\n",
    "            emotions = result[\"language\"][\"predictions\"][0][\"emotions\"]\n",
    "            print(emotions)\n",
    "\n",
    "# 检查是否已存在事件循环\n",
    "loop = asyncio.get_event_loop()\n",
    "if loop.is_running():\n",
    "    # 如果事件循环已经在运行，则使用已有的循环\n",
    "    loop.create_task(main())\n",
    "else:\n",
    "    # 如果没有事件循环在运行，则正常使用 asyncio.run\n",
    "    asyncio.run(main())\n"
   ]
  },
  {
   "cell_type": "code",
   "execution_count": 13,
   "metadata": {},
   "outputs": [
    {
     "name": "stdout",
     "output_type": "stream",
     "text": [
      "[{'name': 'Love', 'score': 0.1472713202238083}, {'name': 'Calmness', 'score': 0.13555721938610077}, {'name': 'Romance', 'score': 0.09956827759742737}, {'name': 'Confusion', 'score': 0.0911511704325676}, {'name': 'Desire', 'score': 0.08503230661153793}, {'name': 'Adoration', 'score': 0.07222927361726761}, {'name': 'Admiration', 'score': 0.0637924075126648}, {'name': 'Interest', 'score': 0.06195249781012535}, {'name': 'Awkwardness', 'score': 0.061385150998830795}, {'name': 'Contentment', 'score': 0.06075143441557884}]\n",
      "[{'name': 'Calmness', 'score': 0.14533287286758423}, {'name': 'Confusion', 'score': 0.14072859287261963}, {'name': 'Boredom', 'score': 0.10465148836374283}, {'name': 'Interest', 'score': 0.10246434807777405}, {'name': 'Contemplation', 'score': 0.08013632148504257}, {'name': 'Realization', 'score': 0.076319120824337}, {'name': 'Aesthetic Appreciation', 'score': 0.07604563981294632}, {'name': 'Satisfaction', 'score': 0.07013728469610214}, {'name': 'Contentment', 'score': 0.06073102355003357}, {'name': 'Concentration', 'score': 0.05680055543780327}]\n",
      "[{'name': 'Realization', 'score': 0.13879826664924622}, {'name': 'Calmness', 'score': 0.1260739266872406}, {'name': 'Confusion', 'score': 0.1222047209739685}, {'name': 'Boredom', 'score': 0.09323373436927795}, {'name': 'Contemplation', 'score': 0.07748270034790039}, {'name': 'Satisfaction', 'score': 0.06976743042469025}, {'name': 'Contentment', 'score': 0.0677824541926384}, {'name': 'Surprise (positive)', 'score': 0.05965827777981758}, {'name': 'Tiredness', 'score': 0.050310857594013214}, {'name': 'Interest', 'score': 0.04900533705949783}]\n",
      "[{'name': 'Confusion', 'score': 0.3616469204425812}, {'name': 'Interest', 'score': 0.15917028486728668}, {'name': 'Calmness', 'score': 0.12637406587600708}, {'name': 'Contemplation', 'score': 0.10656405985355377}, {'name': 'Concentration', 'score': 0.06531300395727158}, {'name': 'Aesthetic Appreciation', 'score': 0.06001366302371025}, {'name': 'Boredom', 'score': 0.059299860149621964}, {'name': 'Doubt', 'score': 0.04364926740527153}, {'name': 'Realization', 'score': 0.042914945632219315}, {'name': 'Surprise (positive)', 'score': 0.03454850986599922}]\n"
     ]
    }
   ],
   "source": [
    "import asyncio\n",
    "import json\n",
    "from hume import HumeStreamClient\n",
    "from hume.models.config import LanguageConfig\n",
    "\n",
    "hume_api = \"GCTg9YG1exXFZoC3PLnLqPkpmRXdBIWJ9USdhiqsLv8JtVU4\" #需要换成你的API密钥\n",
    "top_n = 10  # 保留的情感数量\n",
    "all_emotions= []  # 创建一个空列表来存储所有的情感数据\n",
    "\n",
    "samples = [\n",
    "    \"Mary had a little lamb,\",\n",
    "    \"Its fleece was white as snow.\",\n",
    "    \"Everywhere the child went,\",\n",
    "    \"The little lamb was sure to go.\"\n",
    "]\n",
    "\n",
    "async def main(top_n,all_emotions):\n",
    "    client = HumeStreamClient(hume_api)\n",
    "    config = LanguageConfig()\n",
    "    async with client.connect([config]) as socket:\n",
    "        for sample in samples:\n",
    "            result = await socket.send_text(sample)\n",
    "            emotions = result[\"language\"][\"predictions\"][0][\"emotions\"]\n",
    "            # 使用top_n变量来控制保留的情感数量\n",
    "            top_emotions = sorted(emotions, key=lambda x: x['score'], reverse=True)[:top_n]\n",
    "            all_emotions.append({sample: top_emotions})  # 将每个样本的top N情感数据添加到列表中\n",
    "            print(top_emotions)\n",
    "    \n",
    "    # 将所有情感数据写入JSON文件\n",
    "    with open('top_emotions.json', 'w') as f:\n",
    "        json.dump(all_emotions, f, ensure_ascii=False, indent=4)  # 确保使用非ASCII字符和格式化输出\n",
    "\n",
    "# 检查是否已存在事件循环\n",
    "loop = asyncio.get_event_loop()\n",
    "if loop.is_running():\n",
    "    # 如果事件循环已经在运行，则使用已有的循环\n",
    "    loop.create_task(main(top_n,all_emotions))  # 传入你想要的截取数量，例如10\n",
    "else:\n",
    "    # 如果没有事件循环在运行，则正常使用 asyncio.run\n",
    "    asyncio.run(main(top_n,all_emotions))  # 同样传入截取数量\n"
   ]
  },
  {
   "cell_type": "code",
   "execution_count": 15,
   "metadata": {},
   "outputs": [
    {
     "name": "stdout",
     "output_type": "stream",
     "text": [
      "[{'Mary had a little lamb,': [{'name': 'Love', 'score': 0.1472713202238083}, {'name': 'Calmness', 'score': 0.13555721938610077}, {'name': 'Romance', 'score': 0.09956827759742737}, {'name': 'Confusion', 'score': 0.0911511704325676}, {'name': 'Desire', 'score': 0.08503230661153793}, {'name': 'Adoration', 'score': 0.07222927361726761}, {'name': 'Admiration', 'score': 0.0637924075126648}, {'name': 'Interest', 'score': 0.06195249781012535}, {'name': 'Awkwardness', 'score': 0.061385150998830795}, {'name': 'Contentment', 'score': 0.06075143441557884}]}, {'Its fleece was white as snow.': [{'name': 'Calmness', 'score': 0.14533287286758423}, {'name': 'Confusion', 'score': 0.14072859287261963}, {'name': 'Boredom', 'score': 0.10465148836374283}, {'name': 'Interest', 'score': 0.10246434807777405}, {'name': 'Contemplation', 'score': 0.08013632148504257}, {'name': 'Realization', 'score': 0.076319120824337}, {'name': 'Aesthetic Appreciation', 'score': 0.07604563981294632}, {'name': 'Satisfaction', 'score': 0.07013728469610214}, {'name': 'Contentment', 'score': 0.06073102355003357}, {'name': 'Concentration', 'score': 0.05680055543780327}]}, {'Everywhere the child went,': [{'name': 'Realization', 'score': 0.13879826664924622}, {'name': 'Calmness', 'score': 0.1260739266872406}, {'name': 'Confusion', 'score': 0.1222047209739685}, {'name': 'Boredom', 'score': 0.09323373436927795}, {'name': 'Contemplation', 'score': 0.07748270034790039}, {'name': 'Satisfaction', 'score': 0.06976743042469025}, {'name': 'Contentment', 'score': 0.0677824541926384}, {'name': 'Surprise (positive)', 'score': 0.05965827777981758}, {'name': 'Tiredness', 'score': 0.050310857594013214}, {'name': 'Interest', 'score': 0.04900533705949783}]}, {'The little lamb was sure to go.': [{'name': 'Confusion', 'score': 0.3616469204425812}, {'name': 'Interest', 'score': 0.15917028486728668}, {'name': 'Calmness', 'score': 0.12637406587600708}, {'name': 'Contemplation', 'score': 0.10656405985355377}, {'name': 'Concentration', 'score': 0.06531300395727158}, {'name': 'Aesthetic Appreciation', 'score': 0.06001366302371025}, {'name': 'Boredom', 'score': 0.059299860149621964}, {'name': 'Doubt', 'score': 0.04364926740527153}, {'name': 'Realization', 'score': 0.042914945632219315}, {'name': 'Surprise (positive)', 'score': 0.03454850986599922}]}]\n"
     ]
    }
   ],
   "source": [
    "# 打印所有情感数据,这些数据被组织成了一个列表由字典组成，每个字典包含了一个样本的top N情感数据\n",
    "all_emotions"
   ]
  }
 ],
 "metadata": {
  "kernelspec": {
   "display_name": "humeai",
   "language": "python",
   "name": "python3"
  },
  "language_info": {
   "codemirror_mode": {
    "name": "ipython",
    "version": 3
   },
   "file_extension": ".py",
   "mimetype": "text/x-python",
   "name": "python",
   "nbconvert_exporter": "python",
   "pygments_lexer": "ipython3",
   "version": "3.12.3"
  }
 },
 "nbformat": 4,
 "nbformat_minor": 2
}
