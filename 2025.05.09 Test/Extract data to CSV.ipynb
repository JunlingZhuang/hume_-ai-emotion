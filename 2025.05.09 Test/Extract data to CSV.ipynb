{
 "cells": [
  {
   "cell_type": "code",
   "execution_count": 1,
   "metadata": {},
   "outputs": [],
   "source": [
    "import json\n",
    "import csv"
   ]
  },
  {
   "cell_type": "code",
   "execution_count": 2,
   "metadata": {},
   "outputs": [],
   "source": [
    "# 读取JSON文件\n",
    "with open('C:/Users/qnj/Desktop/NLP/top_emotions.json', 'r', encoding='utf-8') as json_file:\n",
    "    data = json.load(json_file)"
   ]
  },
  {
   "cell_type": "code",
   "execution_count": null,
   "metadata": {},
   "outputs": [],
   "source": [
    "# 提取句子、情绪和数值，并写入CSV文件\n",
    "with open('C:/Users/qnj/Desktop/NLP/Emotion Output Test/1-100 update.csv', 'w', newline='', encoding='utf-8') as csvfile:\n",
    "    fieldnames = ['sentence', 'emotion', 'score']\n",
    "    writer = csv.DictWriter(csvfile, fieldnames=fieldnames)\n",
    "    writer.writeheader()\n",
    "    \n",
    "    for sentence_data in data:\n",
    "        sentence = list(sentence_data.keys())[0]\n",
    "        emotions = sentence_data[sentence]\n",
    "        for emotion in emotions:\n",
    "            writer.writerow({'sentence': sentence, 'emotion': emotion['name'], 'score': emotion['score']})"
   ]
  }
 ],
 "metadata": {
  "kernelspec": {
   "display_name": "emotion",
   "language": "python",
   "name": "python3"
  },
  "language_info": {
   "codemirror_mode": {
    "name": "ipython",
    "version": 3
   },
   "file_extension": ".py",
   "mimetype": "text/x-python",
   "name": "python",
   "nbconvert_exporter": "python",
   "pygments_lexer": "ipython3",
   "version": "3.12.3"
  }
 },
 "nbformat": 4,
 "nbformat_minor": 2
}
