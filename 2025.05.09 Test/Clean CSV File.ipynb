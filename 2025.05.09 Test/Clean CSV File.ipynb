{
 "cells": [
  {
   "cell_type": "code",
   "execution_count": 1,
   "metadata": {},
   "outputs": [],
   "source": [
    "import pandas as pd\n",
    "import re"
   ]
  },
  {
   "cell_type": "code",
   "execution_count": null,
   "metadata": {},
   "outputs": [],
   "source": [
    "# 读取CSV文件\n",
    "df = pd.read_csv(\"C:/Users/qnj/Desktop/NLP/Emotion Output Test/1-100.csv\")"
   ]
  },
  {
   "cell_type": "code",
   "execution_count": null,
   "metadata": {},
   "outputs": [],
   "source": [
    "# 定义函数以处理句子\n",
    "def remove_numeric_prefix(sentence):\n",
    "    # 使用正则表达式匹配句子开头的数字\n",
    "    match = re.match(r'^\\d+\\.', sentence)\n",
    "    if match:\n",
    "        # 删除匹配到的部分\n",
    "        sentence = sentence[match.end():].strip()\n",
    "    return sentence"
   ]
  },
  {
   "cell_type": "code",
   "execution_count": null,
   "metadata": {},
   "outputs": [],
   "source": [
    "# 对'sentence'列应用函数\n",
    "df['sentence'] = df['sentence'].apply(remove_numeric_prefix)"
   ]
  },
  {
   "cell_type": "code",
   "execution_count": null,
   "metadata": {},
   "outputs": [],
   "source": [
    "# 对'sentence'列应用函数\n",
    "df['sentence'] = df['sentence'].apply(remove_numeric_prefix)"
   ]
  }
 ],
 "metadata": {
  "kernelspec": {
   "display_name": "emotion",
   "language": "python",
   "name": "python3"
  },
  "language_info": {
   "codemirror_mode": {
    "name": "ipython",
    "version": 3
   },
   "file_extension": ".py",
   "mimetype": "text/x-python",
   "name": "python",
   "nbconvert_exporter": "python",
   "pygments_lexer": "ipython3",
   "version": "3.12.3"
  }
 },
 "nbformat": 4,
 "nbformat_minor": 2
}
