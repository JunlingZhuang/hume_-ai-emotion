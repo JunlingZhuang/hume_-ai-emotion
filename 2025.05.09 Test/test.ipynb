{
 "cells": [
  {
   "cell_type": "code",
   "execution_count": null,
   "metadata": {},
   "outputs": [],
   "source": [
    "import asyncio\n",
    "from hume import HumeStreamClient\n",
    "from hume.models.config import LanguageConfig\n",
    "\n",
    "samples = [\n",
    "    \"Mary had a little lamb,\",\n",
    "    \"Its fleece was white as snow.\",\n",
    "    \"Everywhere the child went,\",\n",
    "    \"The little lamb was sure to go.\"\n",
    "]\n",
    "\n",
    "async def main():\n",
    "    client = HumeStreamClient(hume_api)\n",
    "    config = LanguageConfig()\n",
    "    async with client.connect([config]) as socket:\n",
    "        for sample in samples:\n",
    "            result = await socket.send_text(sample)\n",
    "            emotions = result[\"language\"][\"predictions\"][0][\"emotions\"]\n",
    "            print(emotions)\n",
    "\n",
    "# 检查是否已存在事件循环\n",
    "loop = asyncio.get_event_loop()\n",
    "if loop.is_running():\n",
    "    # 如果事件循环已经在运行，则使用已有的循环\n",
    "    loop.create_task(main())\n",
    "else:\n",
    "    # 如果没有事件循环在运行，则正常使用 asyncio.run\n",
    "    asyncio.run(main())\n"
   ]
  },
  {
   "cell_type": "code",
   "execution_count": 1,
   "metadata": {},
   "outputs": [
    {
     "name": "stderr",
     "output_type": "stream",
     "text": [
      "c:\\Users\\qnj\\anaconda3\\envs\\emotion\\Lib\\site-packages\\pydantic\\_internal\\_fields.py:160: UserWarning: Field \"model_provider\" has conflict with protected namespace \"model_\".\n",
      "\n",
      "You may be able to resolve this warning by setting `model_config['protected_namespaces'] = ()`.\n",
      "  warnings.warn(\n",
      "c:\\Users\\qnj\\anaconda3\\envs\\emotion\\Lib\\site-packages\\pydantic\\_internal\\_fields.py:160: UserWarning: Field \"model_resource\" has conflict with protected namespace \"model_\".\n",
      "\n",
      "You may be able to resolve this warning by setting `model_config['protected_namespaces'] = ()`.\n",
      "  warnings.warn(\n"
     ]
    },
    {
     "name": "stdout",
     "output_type": "stream",
     "text": [
      "[{'name': 'Love', 'score': 0.1472713202238083}, {'name': 'Calmness', 'score': 0.13555721938610077}, {'name': 'Romance', 'score': 0.09956827759742737}, {'name': 'Confusion', 'score': 0.0911511704325676}, {'name': 'Desire', 'score': 0.08503230661153793}, {'name': 'Adoration', 'score': 0.07222927361726761}, {'name': 'Admiration', 'score': 0.0637924075126648}, {'name': 'Interest', 'score': 0.06195249781012535}, {'name': 'Awkwardness', 'score': 0.061385150998830795}, {'name': 'Contentment', 'score': 0.06075143441557884}]\n",
      "[{'name': 'Calmness', 'score': 0.14533287286758423}, {'name': 'Confusion', 'score': 0.14072859287261963}, {'name': 'Boredom', 'score': 0.10465148836374283}, {'name': 'Interest', 'score': 0.10246434807777405}, {'name': 'Contemplation', 'score': 0.08013632148504257}, {'name': 'Realization', 'score': 0.076319120824337}, {'name': 'Aesthetic Appreciation', 'score': 0.07604563981294632}, {'name': 'Satisfaction', 'score': 0.07013728469610214}, {'name': 'Contentment', 'score': 0.06073102355003357}, {'name': 'Concentration', 'score': 0.05680055543780327}]\n",
      "[{'name': 'Realization', 'score': 0.13879826664924622}, {'name': 'Calmness', 'score': 0.1260739266872406}, {'name': 'Confusion', 'score': 0.1222047209739685}, {'name': 'Boredom', 'score': 0.09323373436927795}, {'name': 'Contemplation', 'score': 0.07748270034790039}, {'name': 'Satisfaction', 'score': 0.06976743042469025}, {'name': 'Contentment', 'score': 0.0677824541926384}, {'name': 'Surprise (positive)', 'score': 0.05965827777981758}, {'name': 'Tiredness', 'score': 0.050310857594013214}, {'name': 'Interest', 'score': 0.04900533705949783}]\n",
      "[{'name': 'Confusion', 'score': 0.3616469204425812}, {'name': 'Interest', 'score': 0.15917028486728668}, {'name': 'Calmness', 'score': 0.12637406587600708}, {'name': 'Contemplation', 'score': 0.10656405985355377}, {'name': 'Concentration', 'score': 0.06531300395727158}, {'name': 'Aesthetic Appreciation', 'score': 0.06001366302371025}, {'name': 'Boredom', 'score': 0.059299860149621964}, {'name': 'Doubt', 'score': 0.04364926740527153}, {'name': 'Realization', 'score': 0.042914945632219315}, {'name': 'Surprise (positive)', 'score': 0.03454850986599922}]\n"
     ]
    }
   ],
   "source": [
    "import asyncio\n",
    "import json\n",
    "from hume import HumeStreamClient\n",
    "from hume.models.config import LanguageConfig\n",
    "\n",
    "hume_api = \"bGKD8LrwTrKIHS6BQFVV8p8rrImljoCTiAQik7Yp2Phk3GiV\" #需要换成你的API密钥\n",
    "top_n = 10  # 保留的情感数量\n",
    "all_emotions= []  # 创建一个空列表来存储所有的情感数据\n",
    "\n",
    "samples = [\n",
    "    \"Mary had a little lamb,\",\n",
    "    \"Its fleece was white as snow.\",\n",
    "    \"Everywhere the child went,\",\n",
    "    \"The little lamb was sure to go.\"\n",
    "]\n",
    "\n",
    "async def main(top_n,all_emotions):\n",
    "    client = HumeStreamClient(hume_api)\n",
    "    config = LanguageConfig()\n",
    "    async with client.connect([config]) as socket:\n",
    "        for sample in samples:\n",
    "            result = await socket.send_text(sample)\n",
    "            emotions = result[\"language\"][\"predictions\"][0][\"emotions\"]\n",
    "            # 使用top_n变量来控制保留的情感数量\n",
    "            top_emotions = sorted(emotions, key=lambda x: x['score'], reverse=True)[:top_n]\n",
    "            all_emotions.append({sample: top_emotions})  # 将每个样本的top N情感数据添加到列表中\n",
    "            print(top_emotions)\n",
    "    \n",
    "    # 将所有情感数据写入JSON文件\n",
    "    with open('top_emotions.json', 'w') as f:\n",
    "        json.dump(all_emotions, f, ensure_ascii=False, indent=4)  # 确保使用非ASCII字符和格式化输出\n",
    "\n",
    "# 检查是否已存在事件循环\n",
    "loop = asyncio.get_event_loop()\n",
    "if loop.is_running():\n",
    "    # 如果事件循环已经在运行，则使用已有的循环\n",
    "    loop.create_task(main(top_n,all_emotions))  # 传入你想要的截取数量，例如10\n",
    "else:\n",
    "    # 如果没有事件循环在运行，则正常使用 asyncio.run\n",
    "    asyncio.run(main(top_n,all_emotions))  # 同样传入截取数量"
   ]
  },
  {
   "cell_type": "code",
   "execution_count": 2,
   "metadata": {},
   "outputs": [
    {
     "data": {
      "text/plain": [
       "[{'Mary had a little lamb,': [{'name': 'Love', 'score': 0.1472713202238083},\n",
       "   {'name': 'Calmness', 'score': 0.13555721938610077},\n",
       "   {'name': 'Romance', 'score': 0.09956827759742737},\n",
       "   {'name': 'Confusion', 'score': 0.0911511704325676},\n",
       "   {'name': 'Desire', 'score': 0.08503230661153793},\n",
       "   {'name': 'Adoration', 'score': 0.07222927361726761},\n",
       "   {'name': 'Admiration', 'score': 0.0637924075126648},\n",
       "   {'name': 'Interest', 'score': 0.06195249781012535},\n",
       "   {'name': 'Awkwardness', 'score': 0.061385150998830795},\n",
       "   {'name': 'Contentment', 'score': 0.06075143441557884}]},\n",
       " {'Its fleece was white as snow.': [{'name': 'Calmness',\n",
       "    'score': 0.14533287286758423},\n",
       "   {'name': 'Confusion', 'score': 0.14072859287261963},\n",
       "   {'name': 'Boredom', 'score': 0.10465148836374283},\n",
       "   {'name': 'Interest', 'score': 0.10246434807777405},\n",
       "   {'name': 'Contemplation', 'score': 0.08013632148504257},\n",
       "   {'name': 'Realization', 'score': 0.076319120824337},\n",
       "   {'name': 'Aesthetic Appreciation', 'score': 0.07604563981294632},\n",
       "   {'name': 'Satisfaction', 'score': 0.07013728469610214},\n",
       "   {'name': 'Contentment', 'score': 0.06073102355003357},\n",
       "   {'name': 'Concentration', 'score': 0.05680055543780327}]},\n",
       " {'Everywhere the child went,': [{'name': 'Realization',\n",
       "    'score': 0.13879826664924622},\n",
       "   {'name': 'Calmness', 'score': 0.1260739266872406},\n",
       "   {'name': 'Confusion', 'score': 0.1222047209739685},\n",
       "   {'name': 'Boredom', 'score': 0.09323373436927795},\n",
       "   {'name': 'Contemplation', 'score': 0.07748270034790039},\n",
       "   {'name': 'Satisfaction', 'score': 0.06976743042469025},\n",
       "   {'name': 'Contentment', 'score': 0.0677824541926384},\n",
       "   {'name': 'Surprise (positive)', 'score': 0.05965827777981758},\n",
       "   {'name': 'Tiredness', 'score': 0.050310857594013214},\n",
       "   {'name': 'Interest', 'score': 0.04900533705949783}]},\n",
       " {'The little lamb was sure to go.': [{'name': 'Confusion',\n",
       "    'score': 0.3616469204425812},\n",
       "   {'name': 'Interest', 'score': 0.15917028486728668},\n",
       "   {'name': 'Calmness', 'score': 0.12637406587600708},\n",
       "   {'name': 'Contemplation', 'score': 0.10656405985355377},\n",
       "   {'name': 'Concentration', 'score': 0.06531300395727158},\n",
       "   {'name': 'Aesthetic Appreciation', 'score': 0.06001366302371025},\n",
       "   {'name': 'Boredom', 'score': 0.059299860149621964},\n",
       "   {'name': 'Doubt', 'score': 0.04364926740527153},\n",
       "   {'name': 'Realization', 'score': 0.042914945632219315},\n",
       "   {'name': 'Surprise (positive)', 'score': 0.03454850986599922}]}]"
      ]
     },
     "execution_count": 2,
     "metadata": {},
     "output_type": "execute_result"
    }
   ],
   "source": [
    "# 打印所有情感数据,这些数据被组织成了一个列表由字典组成，每个字典包含了一个样本的top N情感数据\n",
    "all_emotions"
   ]
  }
 ],
 "metadata": {
  "kernelspec": {
   "display_name": "emotion",
   "language": "python",
   "name": "python3"
  },
  "language_info": {
   "codemirror_mode": {
    "name": "ipython",
    "version": 3
   },
   "file_extension": ".py",
   "mimetype": "text/x-python",
   "name": "python",
   "nbconvert_exporter": "python",
   "pygments_lexer": "ipython3",
   "version": "3.12.3"
  }
 },
 "nbformat": 4,
 "nbformat_minor": 2
}
